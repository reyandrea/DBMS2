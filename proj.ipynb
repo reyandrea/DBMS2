{
 "cells": [
  {
   "cell_type": "markdown",
   "metadata": {},
   "source": [
    "#### Before You Start\n",
    "\n",
    "\n",
    "cd .devcontainer </br>\n",
    "run docker-compose up"
   ]
  },
  {
   "cell_type": "code",
   "execution_count": null,
   "metadata": {},
   "outputs": [],
   "source": [
    "! pip install psycopg2\n",
    "! pip install sqlalchemy\n"
   ]
  },
  {
   "cell_type": "code",
   "execution_count": null,
   "metadata": {},
   "outputs": [],
   "source": [
    "import psycopg2  #import of the psycopg2 python library\n",
    "import pandas as pd #import of the pandas python library\n",
    "import pandas.io.sql as psql\n",
    "\n",
    "##No transaction is started when commands are executed and no commit() or rollback() is required. \n",
    "from psycopg2.extensions import ISOLATION_LEVEL_AUTOCOMMIT"
   ]
  },
  {
   "cell_type": "code",
   "execution_count": null,
   "metadata": {},
   "outputs": [],
   "source": [
    "try:\n",
    "    # Connect to the postgreSQL server with username, and password credentials\n",
    "    con = psycopg2.connect(user = \"postgres\",\n",
    "                                  password = \"postgres\",\n",
    "                                  host = \"localhost\",\n",
    "                                  port = \"5432\")\n",
    "    \n",
    "    con.set_isolation_level(ISOLATION_LEVEL_AUTOCOMMIT);\n",
    "    print(\"Connected Successfully to PostgreSQL server!!\")\n",
    "    \n",
    "    # Obtain a DB Cursor to perform database operations\n",
    "    cursor = con.cursor();\n",
    "except (Exception, psycopg2.Error) as error :\n",
    "     print (\"Error while connecting to PostgreSQL\", error)\n"
   ]
  },
  {
   "cell_type": "markdown",
   "metadata": {},
   "source": [
    "#### View table in python"
   ]
  },
  {
   "cell_type": "code",
   "execution_count": null,
   "metadata": {},
   "outputs": [],
   "source": [
    "import pandas as pd\n",
    "\n",
    "df = pd.read_csv('lap_time.csv')\n",
    "print(df.head())"
   ]
  },
  {
   "cell_type": "markdown",
   "metadata": {},
   "source": [
    "### Create tables in relational database"
   ]
  },
  {
   "cell_type": "code",
   "execution_count": null,
   "metadata": {},
   "outputs": [],
   "source": [
    "try:\n",
    "    #table_name variable\n",
    "    seasonTable=\"season\"\n",
    "    create_all_tables_query = '''\n",
    "\n",
    "    DROP TABLE IF EXISTS lap_time, pit_stop, result, race, driver, constructor, circuit, season CASCADE;\n",
    "\n",
    "    CREATE TABLE IF NOT EXISTS circuit (\n",
    "        circuit_id INT PRIMARY KEY,\n",
    "        -- circuit_ref omitted\n",
    "        name TEXT,\n",
    "        location TEXT,\n",
    "        country TEXT,\n",
    "        lat float,\n",
    "        long float,\n",
    "        alt INT,\n",
    "        url TEXT\n",
    "    );\n",
    "\n",
    "    CREATE TABLE IF NOT EXISTS constructor (\n",
    "        constructor_id INT PRIMARY KEY,\n",
    "        -- removing constructor_ref for normalisation purposes\n",
    "        name TEXT,\n",
    "        nationality TEXT,\n",
    "        url TEXT\n",
    "    );\n",
    "\n",
    "    CREATE TABLE IF NOT EXISTS driver (\n",
    "        driver_id INT PRIMARY KEY,\n",
    "        -- removing driver_ref and number for normalisation purposes\n",
    "        code TEXT,\n",
    "        first_name TEXT, --no longer forename\n",
    "        last_name TEXT, --no longer surname\n",
    "        dob DATE,\n",
    "        nationality TEXT,\n",
    "        url TEXT\n",
    "    );\n",
    "\n",
    "    CREATE TABLE IF NOT EXISTS lap_time (\n",
    "        race_id INT,\n",
    "        driver_id INT REFERENCES driver,\n",
    "        lap INT,\n",
    "        position INT,\n",
    "        time_in_milliseconds INT,\n",
    "        PRIMARY KEY(race_id, driver_id, lap)\n",
    "    );\n",
    "\n",
    "    CREATE TABLE IF NOT EXISTS pit_stop (\n",
    "        race_id INT,\n",
    "        driver_id INT,\n",
    "        stop INT,\n",
    "        lap INT,\n",
    "        time_in_miliseconds INT,\n",
    "        PRIMARY KEY(race_id, driver_id, lap)\n",
    "    );\n",
    "\n",
    "    CREATE TABLE IF NOT EXISTS race (\n",
    "        race_id INT PRIMARY KEY,\n",
    "        year INT,\n",
    "        round INT,\n",
    "        circuit_id INT REFERENCES circuit,\n",
    "        name TEXT,\n",
    "        date DATE,\n",
    "        url TEXT\n",
    "    );\n",
    "\n",
    "    CREATE TABLE IF NOT EXISTS result (\n",
    "        result_id INT PRIMARY KEY,\n",
    "        race_id INT REFERENCES race,\n",
    "        driver_id INT REFERENCES driver,\n",
    "        constructor_id INT REFERENCES constructor,\n",
    "        -- number and grid omitted\n",
    "        position INT, -- use positionOrder instead of position/positionText\n",
    "        points INT,\n",
    "        laps INT,\n",
    "        -- omit time, unclean\n",
    "        time_in_miliseconds INT,\n",
    "        fastest_lap INT,\n",
    "        rank INT,\n",
    "        fastest_lap_time_in_milliseconds INT,\n",
    "        fastest_lap_speed float\n",
    "    );\n",
    "\n",
    "    CREATE TABLE IF NOT EXISTS season (\n",
    "        year INT PRIMARY KEY,\n",
    "        url TEXT\n",
    "    );\n",
    "\n",
    "    '''\n",
    "\n",
    "\n",
    "    #Execute this command (SQL Query)\n",
    "    cursor.execute(create_all_tables_query)\n",
    "    \n",
    "    # Make the changes to the database persistent\n",
    "    con.commit()\n",
    "    print(\"All tables created successfully in PostgreSQL \")\n",
    "except (Exception, psycopg2.Error) as error:\n",
    "    # if it exits with an exception the transaction is rolled back.\n",
    "    con.rollback()\n",
    "    print(\"Error While Creating the DB: \",error)"
   ]
  },
  {
   "cell_type": "markdown",
   "metadata": {},
   "source": [
    "### Check table creation"
   ]
  },
  {
   "cell_type": "code",
   "execution_count": null,
   "metadata": {},
   "outputs": [],
   "source": [
    "# [information_schema.tables] keep listing of every table being managed by Postgres for a particular database.\n",
    "# specifying the tabel_schema to 'public' to only list tables that you create.\n",
    "cursor.execute(\"\"\"SELECT table_name \n",
    "                  FROM information_schema.tables \n",
    "                  WHERE table_schema = 'public'  \n",
    "               \"\"\")\n",
    "\n",
    "for table in cursor.fetchall():\n",
    "    print(table)"
   ]
  },
  {
   "cell_type": "markdown",
   "metadata": {},
   "source": [
    "### Read all CSVs and insert into postgres"
   ]
  },
  {
   "cell_type": "code",
   "execution_count": null,
   "metadata": {},
   "outputs": [],
   "source": [
    "import pandas as pd\n",
    "from sqlalchemy import create_engine\n",
    "\n",
    "# List of CSV files and corresponding table names\n",
    "csv_files = [\n",
    "    (\"circuit.csv\", \"circuit\"),\n",
    "    (\"constructor.csv\", \"constructor\"),\n",
    "    (\"driver.csv\", \"driver\"),\n",
    "    (\"lap_time.csv\", \"lap_time\"),\n",
    "    (\"pit_stop.csv\", \"pit_stop\"),\n",
    "    (\"race.csv\", \"race\"),\n",
    "    (\"result.csv\", \"result\"),\n",
    "    (\"season.csv\", \"season\")\n",
    "]\n",
    "\n",
    "# Connect to the PostgreSQL database\n",
    "user = \"postgres\"\n",
    "password = \"postgres\"\n",
    "host = \"localhost\"\n",
    "port = \"5432\"\n",
    "database = \"postgres\"\n",
    "engine = create_engine(f\"postgresql+psycopg2://{user}:{password}@{host}:{port}/{database}\")\n",
    "\n",
    "# Loop through the list of CSV files and import them into the PostgreSQL tables\n",
    "for csv_file, table_name in csv_files:\n",
    "    try:\n",
    "        # Load CSV file into DataFrame\n",
    "        # df = pd.read_csv(csv_file)\n",
    "        df = pd.read_csv(csv_file, encoding=\"latin1\")\n",
    "\n",
    "        # Convert the date column to the desired format\n",
    "        # Replace 'date_column' with the actual name of your date column\n",
    "        # # Check if the column 'dob' exists in the DataFrame\n",
    "        # if 'dob' in df.columns:\n",
    "        #     df['dob'] = pd.to_datetime(df['dob'], format='%d/%m/%Y').dt.strftime('%Y/%m/%d')\n",
    "\n",
    "        # Write the DataFrame to the PostgreSQL table\n",
    "        df.to_sql(table_name, con=engine, if_exists=\"append\", index=False, method=\"multi\", chunksize=100)\n",
    "        # df.to_sql(table_name, con=engine, if_exists=\"append\", index=False)\n",
    "        print(f\"Data from {csv_file} successfully imported into {table_name}!\")\n",
    "    except Exception as e:\n",
    "        print(f\"An error occurred while importing {csv_file} into {table_name}: {e}\")\n"
   ]
  },
  {
   "cell_type": "markdown",
   "metadata": {},
   "source": [
    "### View query"
   ]
  },
  {
   "cell_type": "code",
   "execution_count": null,
   "metadata": {},
   "outputs": [],
   "source": [
    "# sql_select_query = \"\"\" SELECT * FROM season WHERE year = 2001\"\"\"\n",
    "# sql_select_query = \"\"\" SELECT r.race_id, r.year FROM race as r JOIN season as s ON s.year = r.year WHERE s.year = 2001\"\"\"\n",
    "\n",
    "# try:\n",
    "#     cursor.execute(sql_select_query, (1,))\n",
    "#     person_records = cursor.fetchall() \n",
    "#     print(\"Print each row and it's columns values:\\n\")\n",
    "#     # print(person_records)\n",
    "#     df = pd.DataFrame(person_records, columns=['race_id', 'year'])\n",
    "#     print(df)\n",
    "# except(Exception, psycopg2.Error) as error :\n",
    "#     con.rollback()\n",
    "#     print(\"Error:\", error)\n",
    "\n",
    "\n",
    "Countries_Customers_Cnt_gt1= psql.read_sql(\"\"\"SELECT r.race_id, r.year \n",
    "                                           FROM race as r \n",
    "                                           JOIN season as s \n",
    "                                           ON s.year = r.year \n",
    "                                           WHERE s.year = 2001\n",
    "                                          \"\"\", engine)\n",
    "\n",
    "Countries_Customers_Cnt_gt1= psql.read_sql(\"\"\"SELECT * \n",
    "                                           FROM lap_time\n",
    "                                          \"\"\", engine)\n",
    "display(Countries_Customers_Cnt_gt1.style)"
   ]
  },
  {
   "cell_type": "code",
   "execution_count": null,
   "metadata": {},
   "outputs": [],
   "source": []
  }
 ],
 "metadata": {
  "kernelspec": {
   "display_name": "Python 3",
   "language": "python",
   "name": "python3"
  },
  "language_info": {
   "codemirror_mode": {
    "name": "ipython",
    "version": 3
   },
   "file_extension": ".py",
   "mimetype": "text/x-python",
   "name": "python",
   "nbconvert_exporter": "python",
   "pygments_lexer": "ipython3",
   "version": "3.12.1"
  }
 },
 "nbformat": 4,
 "nbformat_minor": 2
}
