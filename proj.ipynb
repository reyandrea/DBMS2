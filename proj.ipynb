{
 "cells": [
  {
   "cell_type": "markdown",
   "metadata": {},
   "source": [
    "#### Before You Start\n",
    "\n",
    "\n",
    "cd .devcontainer </br>\n",
    "run docker-compose up"
   ]
  },
  {
   "cell_type": "code",
   "execution_count": null,
   "metadata": {},
   "outputs": [],
   "source": [
    "! pip install psycopg2\n",
    "! pip install sqlalchemy\n"
   ]
  },
  {
   "cell_type": "code",
   "execution_count": null,
   "metadata": {},
   "outputs": [],
   "source": [
    "import psycopg2  #import of the psycopg2 python library\n",
    "import pandas as pd #import of the pandas python library\n",
    "import pandas.io.sql as psql\n",
    "\n",
    "##No transaction is started when commands are executed and no commit() or rollback() is required. \n",
    "from psycopg2.extensions import ISOLATION_LEVEL_AUTOCOMMIT"
   ]
  },
  {
   "cell_type": "code",
   "execution_count": null,
   "metadata": {},
   "outputs": [],
   "source": [
    "try:\n",
    "    # Connect to the postgreSQL server with username, and password credentials\n",
    "    con = psycopg2.connect(user = \"postgres\",\n",
    "                                  password = \"postgres\",\n",
    "                                  host = \"localhost\",\n",
    "                                  port = \"5432\")\n",
    "    \n",
    "    con.set_isolation_level(ISOLATION_LEVEL_AUTOCOMMIT);\n",
    "    print(\"Connected Successfully to PostgreSQL server!!\")\n",
    "    \n",
    "    # Obtain a DB Cursor to perform database operations\n",
    "    cursor = con.cursor();\n",
    "except (Exception, psycopg2.Error) as error :\n",
    "     print (\"Error while connecting to PostgreSQL\", error)\n"
   ]
  },
  {
   "cell_type": "markdown",
   "metadata": {},
   "source": [
    "#### View table in python"
   ]
  },
  {
   "cell_type": "code",
   "execution_count": null,
   "metadata": {},
   "outputs": [],
   "source": [
    "import pandas as pd\n",
    "\n",
    "df = pd.read_csv('lap_time.csv')\n",
    "print(df.head())"
   ]
  },
  {
   "cell_type": "markdown",
   "metadata": {},
   "source": [
    "### Create tables in relational database"
   ]
  },
  {
   "cell_type": "code",
   "execution_count": null,
   "metadata": {},
   "outputs": [],
   "source": [
    "try:\n",
    "    #table_name variable\n",
    "    create_all_tables_query = '''\n",
    "\n",
    "    DROP TABLE IF EXISTS lap_time, pit_stop, result, race, driver, constructor, circuit, season CASCADE;\n",
    "\n",
    "    CREATE TABLE IF NOT EXISTS circuit (\n",
    "        circuit_id INT PRIMARY KEY,\n",
    "        -- circuit_ref omitted\n",
    "        name TEXT,\n",
    "        location TEXT,\n",
    "        country TEXT,\n",
    "        lat float,\n",
    "        long float,\n",
    "        alt INT,\n",
    "        url TEXT\n",
    "    );\n",
    "\n",
    "    CREATE TABLE IF NOT EXISTS constructor (\n",
    "        constructor_id INT PRIMARY KEY,\n",
    "        -- removing constructor_ref for normalisation purposes\n",
    "        name TEXT,\n",
    "        nationality TEXT,\n",
    "        url TEXT\n",
    "    );\n",
    "\n",
    "    CREATE TABLE IF NOT EXISTS driver (\n",
    "        driver_id INT PRIMARY KEY,\n",
    "        -- removing driver_ref and number for normalisation purposes\n",
    "        code TEXT,\n",
    "        first_name TEXT, --no longer forename\n",
    "        last_name TEXT, --no longer surname\n",
    "        dob DATE,\n",
    "        nationality TEXT,\n",
    "        url TEXT\n",
    "    );\n",
    "\n",
    "    CREATE TABLE IF NOT EXISTS lap_time (\n",
    "        race_id INT,\n",
    "        driver_id INT REFERENCES driver,\n",
    "        lap INT,\n",
    "        position INT,\n",
    "        time_in_milliseconds INT,\n",
    "        PRIMARY KEY(race_id, driver_id, lap)\n",
    "    );\n",
    "\n",
    "    CREATE TABLE IF NOT EXISTS pit_stop (\n",
    "        race_id INT,\n",
    "        driver_id INT,\n",
    "        stop INT,\n",
    "        lap INT,\n",
    "        time_in_miliseconds INT,\n",
    "        PRIMARY KEY(race_id, driver_id, lap)\n",
    "    );\n",
    "\n",
    "    CREATE TABLE IF NOT EXISTS race (\n",
    "        race_id INT PRIMARY KEY,\n",
    "        year INT,\n",
    "        round INT,\n",
    "        circuit_id INT REFERENCES circuit,\n",
    "        name TEXT,\n",
    "        date DATE,\n",
    "        url TEXT\n",
    "    );\n",
    "\n",
    "    CREATE TABLE IF NOT EXISTS result (\n",
    "        result_id INT PRIMARY KEY,\n",
    "        race_id INT REFERENCES race,\n",
    "        driver_id INT REFERENCES driver,\n",
    "        constructor_id INT REFERENCES constructor,\n",
    "        -- number and grid omitted\n",
    "        position INT, -- use positionOrder instead of position/positionText\n",
    "        points INT,\n",
    "        laps INT,\n",
    "        -- omit time, unclean\n",
    "        time_in_milliseconds INT,\n",
    "        fastest_lap INT,\n",
    "        rank INT,\n",
    "        fastest_lap_time_in_milliseconds INT,\n",
    "        fastest_lap_speed float\n",
    "    );\n",
    "\n",
    "    CREATE TABLE IF NOT EXISTS season (\n",
    "        year INT PRIMARY KEY,\n",
    "        url TEXT\n",
    "    );\n",
    "\n",
    "    '''\n",
    "\n",
    "\n",
    "    #Execute this command (SQL Query)\n",
    "    cursor.execute(create_all_tables_query)\n",
    "    \n",
    "    # Make the changes to the database persistent\n",
    "    con.commit()\n",
    "    print(\"All tables created successfully in PostgreSQL \")\n",
    "except (Exception, psycopg2.Error) as error:\n",
    "    # if it exits with an exception the transaction is rolled back.\n",
    "    con.rollback()\n",
    "    print(\"Error While Creating the DB: \",error)"
   ]
  },
  {
   "cell_type": "markdown",
   "metadata": {},
   "source": [
    "### Create many-to-many tables"
   ]
  },
  {
   "cell_type": "code",
   "execution_count": null,
   "metadata": {},
   "outputs": [],
   "source": [
    "try:\n",
    "    #table_name variable\n",
    "    create_all_tables_query = '''\n",
    "\n",
    "    DROP TABLE IF EXISTS race_result, constructor_result CASCADE;\n",
    "\n",
    "    CREATE TABLE IF NOT EXISTS race_result (\n",
    "        race_id INT REFERENCES race,\n",
    "        result_id INT REFERENCES result, \n",
    "        PRIMARY KEY (race_id, result_id)\n",
    "    );\n",
    "\n",
    "    CREATE TABLE IF NOT EXISTS constructor_result (\n",
    "        constructor_id INT REFERENCES constructor,\n",
    "        result_id INT REFERENCES result,\n",
    "        PRIMARY KEY (constructor_id, result_id)\n",
    "    );\n",
    "    '''\n",
    "\n",
    "\n",
    "    #Execute this command (SQL Query)\n",
    "    cursor.execute(create_all_tables_query)\n",
    "    \n",
    "    # Make the changes to the database persistent\n",
    "    con.commit()\n",
    "    print(\"All tables created successfully in PostgreSQL \")\n",
    "except (Exception, psycopg2.Error) as error:\n",
    "    # if it exits with an exception the transaction is rolled back.\n",
    "    con.rollback()\n",
    "    print(\"Error While Creating the DB: \",error)"
   ]
  },
  {
   "cell_type": "markdown",
   "metadata": {},
   "source": [
    "### Check table creation"
   ]
  },
  {
   "cell_type": "code",
   "execution_count": null,
   "metadata": {},
   "outputs": [],
   "source": [
    "# [information_schema.tables] keep listing of every table being managed by Postgres for a particular database.\n",
    "# specifying the tabel_schema to 'public' to only list tables that you create.\n",
    "cursor.execute(\"\"\"SELECT table_name \n",
    "                  FROM information_schema.tables \n",
    "                  WHERE table_schema = 'public'  \n",
    "               \"\"\")\n",
    "\n",
    "for table in cursor.fetchall():\n",
    "    print(table)"
   ]
  },
  {
   "cell_type": "markdown",
   "metadata": {},
   "source": [
    "### Read all CSVs and insert into postgres (requires some waiting)"
   ]
  },
  {
   "cell_type": "code",
   "execution_count": null,
   "metadata": {},
   "outputs": [],
   "source": [
    "import pandas as pd\n",
    "from sqlalchemy import create_engine\n",
    "\n",
    "# List of CSV files and corresponding table names\n",
    "csv_files = [\n",
    "    (\"circuit.csv\", \"circuit\"),\n",
    "    (\"constructor.csv\", \"constructor\"),\n",
    "    (\"driver.csv\", \"driver\"),\n",
    "    (\"lap_time.csv\", \"lap_time\"),\n",
    "    (\"pit_stop.csv\", \"pit_stop\"),\n",
    "    (\"race.csv\", \"race\"),\n",
    "    (\"result.csv\", \"result\"),\n",
    "    (\"season.csv\", \"season\")\n",
    "]\n",
    "\n",
    "# Connect to the PostgreSQL database\n",
    "user = \"postgres\"\n",
    "password = \"postgres\"\n",
    "host = \"localhost\"\n",
    "port = \"5432\"\n",
    "database = \"postgres\"\n",
    "engine = create_engine(f\"postgresql+psycopg2://{user}:{password}@{host}:{port}/{database}\")\n",
    "\n",
    "# Loop through the list of CSV files and import them into the PostgreSQL tables\n",
    "for csv_file, table_name in csv_files:\n",
    "    try:\n",
    "        # Load CSV file into DataFrame\n",
    "        # df = pd.read_csv(csv_file)\n",
    "        df = pd.read_csv(csv_file, encoding=\"latin1\")\n",
    "\n",
    "        # Write the DataFrame to the PostgreSQL table\n",
    "        df.to_sql(table_name, con=engine, if_exists=\"append\", index=False, method=\"multi\", chunksize=100)\n",
    "        # df.to_sql(table_name, con=engine, if_exists=\"append\", index=False)\n",
    "        print(f\"Data from {csv_file} successfully imported into {table_name}!\")\n",
    "    except Exception as e:\n",
    "        print(f\"An error occurred while importing {csv_file} into {table_name}: {e}\")\n"
   ]
  },
  {
   "cell_type": "markdown",
   "metadata": {},
   "source": [
    "### Populate many-to-many tables with records"
   ]
  },
  {
   "cell_type": "code",
   "execution_count": null,
   "metadata": {},
   "outputs": [],
   "source": [
    "csv_file = 'result.csv'\n",
    "table_name = 'race_result'\n",
    "\n",
    "try:\n",
    "        # Load CSV file into DataFrame\n",
    "        # df = pd.read_csv(csv_file)\n",
    "        df_result = pd.read_csv('result.csv', encoding=\"latin1\")\n",
    "        df_race_result = df_result[['race_id', 'result_id']]\n",
    "        df_constructor_result = df_result[['constructor_id', 'result_id']]\n",
    "\n",
    "        # Write the DataFrame to the PostgreSQL table\n",
    "        df_race_result.to_sql('race_result', con=engine, if_exists=\"append\", index=False, method=\"multi\", chunksize=100)\n",
    "        # df.to_sql(table_name, con=engine, if_exists=\"append\", index=False)\n",
    "        print(f\"Data from {csv_file} successfully imported into {table_name}!\")\n",
    "except Exception as e:\n",
    "    print(f\"An error occurred while importing {csv_file} into {table_name}: {e}\")\n"
   ]
  },
  {
   "cell_type": "code",
   "execution_count": null,
   "metadata": {},
   "outputs": [],
   "source": [
    "csv_file = 'result.csv'\n",
    "table_name = 'constructor_result'\n",
    "\n",
    "try:\n",
    "        # Load CSV file into DataFrame\n",
    "        # df = pd.read_csv(csv_file)\n",
    "        df_result = pd.read_csv('result.csv')\n",
    "        df_constructor_result = df_result[['constructor_id', 'result_id']]\n",
    "\n",
    "        # Write the DataFrame to the PostgreSQL table\n",
    "        df_constructor_result.to_sql('constructor_result', con=engine, if_exists=\"append\", index=False, method=\"multi\", chunksize=100)\n",
    "        # df.to_sql(table_name, con=engine, if_exists=\"append\", index=False)\n",
    "        print(f\"Data from {csv_file} successfully imported into {table_name}!\")\n",
    "except Exception as e:\n",
    "    print(f\"An error occurred while importing {csv_file} into {table_name}: {e}\")\n"
   ]
  },
  {
   "cell_type": "markdown",
   "metadata": {},
   "source": [
    "### Query 1: List circuits in the USA"
   ]
  },
  {
   "cell_type": "code",
   "execution_count": null,
   "metadata": {},
   "outputs": [],
   "source": [
    "USA_circuits= psql.read_sql(\"\"\"\n",
    "                            SELECT *\n",
    "                            FROM circuit\n",
    "                            WHERE country = 'USA'\n",
    "                            \"\"\", engine)\n",
    "display(USA_circuits.style)"
   ]
  },
  {
   "cell_type": "markdown",
   "metadata": {},
   "source": [
    "### Query 2: List race count of the top 10 drivers in order\n"
   ]
  },
  {
   "cell_type": "code",
   "execution_count": null,
   "metadata": {},
   "outputs": [],
   "source": [
    "driver_race_counts= psql.read_sql(\"\"\"\n",
    "                                  SELECT * \n",
    "                                  FROM driver AS d\n",
    "                                  JOIN \n",
    "                                    (SELECT driver_id, COUNT(race_id) AS race_count\n",
    "                                    FROM result\n",
    "                                    GROUP BY driver_id\n",
    "                                    ) AS r\n",
    "                                  ON d.driver_id = r.driver_id\n",
    "                                  ORDER BY race_count DESC\n",
    "                                  LIMIT 10\n",
    "                                \"\"\", engine)\n",
    "display(driver_race_counts.style)"
   ]
  },
  {
   "cell_type": "markdown",
   "metadata": {},
   "source": [
    "### Query 3: Which driver has the most wins?"
   ]
  },
  {
   "cell_type": "code",
   "execution_count": null,
   "metadata": {},
   "outputs": [],
   "source": [
    "driver_win_counts= psql.read_sql(\"\"\"\n",
    "                                  SELECT * \n",
    "                                  FROM driver AS d\n",
    "                                  JOIN \n",
    "                                    (SELECT driver_id, COUNT(CASE WHEN rank = '1' THEN 1 END) AS first_place_count\n",
    "                                    FROM result\n",
    "                                    GROUP BY driver_id\n",
    "                                    ) AS r\n",
    "                                  ON d.driver_id = r.driver_id\n",
    "                                  ORDER BY r.first_place_count DESC\n",
    "                                  LIMIT 10\n",
    "                                \"\"\", engine)\n",
    "display(driver_win_counts.style)"
   ]
  },
  {
   "cell_type": "markdown",
   "metadata": {},
   "source": [
    "### Query 4: Which drivers have the same nationality as the constructor?"
   ]
  },
  {
   "cell_type": "code",
   "execution_count": null,
   "metadata": {},
   "outputs": [],
   "source": [
    "driver_same_constructor_nationality = psql.read_sql(\"\"\"\n",
    "                            SELECT DISTINCT d.first_name, last_name, name AS constructor_name\n",
    "                            FROM constructor AS c\n",
    "                            JOIN driver AS d\n",
    "                            ON d.nationality = c.nationality\n",
    "                            LIMIT 50\n",
    "                            \"\"\", engine)\n",
    "display(driver_same_constructor_nationality.style)"
   ]
  },
  {
   "cell_type": "markdown",
   "metadata": {},
   "source": [
    "### Query 5: Show across time who drove the fastest in the Singapore Grand Prix?"
   ]
  },
  {
   "cell_type": "code",
   "execution_count": null,
   "metadata": {},
   "outputs": [],
   "source": [
    "fastest_lap_times_sgp = psql.read_sql(\"\"\"\n",
    "                                    SELECT d.first_name, d.last_name, x.time_in_milliseconds, x.date\n",
    "                                    FROM driver AS d\n",
    "                                    JOIN (\n",
    "                                        SELECT l.driver_id, MIN(l.time_in_milliseconds) AS time_in_milliseconds, r.date\n",
    "                                        FROM lap_time AS l\n",
    "                                        JOIN race AS r\n",
    "                                        ON l.race_id = r.race_id\n",
    "                                        WHERE r.name = 'Singapore Grand Prix'\n",
    "                                        GROUP BY l.driver_id, r.date\n",
    "                                    ) AS x\n",
    "                                    ON d.driver_id = x.driver_id\n",
    "                                    ORDER BY x.time_in_milliseconds ASC\n",
    "                                    LIMIT 20\n",
    "                                      \"\"\", engine)\n",
    "display(fastest_lap_times_sgp.style)"
   ]
  },
  {
   "cell_type": "markdown",
   "metadata": {},
   "source": [
    "### Query 6: Which constructors have not gotten first place before?"
   ]
  },
  {
   "cell_type": "code",
   "execution_count": null,
   "metadata": {},
   "outputs": [],
   "source": [
    "losing_constructors = psql.read_sql(\"\"\"\n",
    "                                    SELECT c.constructor_id, c.name\n",
    "                                    FROM constructor AS c\n",
    "                                    LEFT JOIN (\n",
    "                                        SELECT DISTINCT constructor_id\n",
    "                                        FROM result\n",
    "                                        WHERE position = 1\n",
    "                                    ) AS winning_constructors\n",
    "                                    ON c.constructor_id = winning_constructors.constructor_id\n",
    "                                    WHERE winning_constructors.constructor_id IS NULL\n",
    "                                    LIMIT 20\n",
    "                                      \"\"\", engine)\n",
    "display(losing_constructors.style)"
   ]
  },
  {
   "cell_type": "markdown",
   "metadata": {},
   "source": [
    "### Query 7: Which races have the tightest outcome?"
   ]
  },
  {
   "cell_type": "code",
   "execution_count": null,
   "metadata": {},
   "outputs": [],
   "source": []
  },
  {
   "cell_type": "code",
   "execution_count": null,
   "metadata": {},
   "outputs": [],
   "source": [
    "races_tightest_outcome = psql.read_sql(\"\"\"\n",
    "\n",
    "WITH lap_times AS (\n",
    "    SELECT \n",
    "        race_id,\n",
    "        time_in_milliseconds,\n",
    "        RANK() OVER (PARTITION BY race_id ORDER BY time_in_milliseconds ASC) AS lap_rank\n",
    "    FROM result\n",
    ")\n",
    "SELECT \n",
    "    t1.race_id,\n",
    "    (t2.time_in_milliseconds - t1.time_in_milliseconds) AS lap_time_difference\n",
    "FROM lap_times t1\n",
    "JOIN lap_times t2 ON t1.race_id = t2.race_id\n",
    "WHERE t1.lap_rank = 1 AND t2.lap_rank = 2\n",
    "ORDER BY lap_time_difference ASC\n",
    "LIMIT 1;\n",
    "\n",
    "\n",
    "                                    \n",
    "                                      \"\"\", engine)\n",
    "display(races_tightest_outcome.style)"
   ]
  },
  {
   "cell_type": "code",
   "execution_count": null,
   "metadata": {},
   "outputs": [],
   "source": []
  }
 ],
 "metadata": {
  "kernelspec": {
   "display_name": "Python 3",
   "language": "python",
   "name": "python3"
  },
  "language_info": {
   "codemirror_mode": {
    "name": "ipython",
    "version": 3
   },
   "file_extension": ".py",
   "mimetype": "text/x-python",
   "name": "python",
   "nbconvert_exporter": "python",
   "pygments_lexer": "ipython3",
   "version": "3.12.1"
  }
 },
 "nbformat": 4,
 "nbformat_minor": 2
}
