{
 "cells": [
  {
   "cell_type": "markdown",
   "metadata": {},
   "source": [
    "#### Before You Start\n",
    "\n",
    "\n",
    "cd .devcontainer </br>\n",
    "run docker-compose up"
   ]
  },
  {
   "cell_type": "code",
   "execution_count": null,
   "metadata": {},
   "outputs": [],
   "source": [
    "! pip install psycopg2\n",
    "! pip install sqlalchemy\n"
   ]
  },
  {
   "cell_type": "code",
   "execution_count": null,
   "metadata": {},
   "outputs": [],
   "source": [
    "import psycopg2  #import of the psycopg2 python library\n",
    "import pandas as pd #import of the pandas python library\n",
    "import pandas.io.sql as psql\n",
    "\n",
    "##No transaction is started when commands are executed and no commit() or rollback() is required. \n",
    "from psycopg2.extensions import ISOLATION_LEVEL_AUTOCOMMIT"
   ]
  },
  {
   "cell_type": "code",
   "execution_count": null,
   "metadata": {},
   "outputs": [],
   "source": [
    "try:\n",
    "    # Connect to the postgreSQL server with username, and password credentials\n",
    "    con = psycopg2.connect(user = \"postgres\",\n",
    "                                  password = \"postgres\",\n",
    "                                  host = \"localhost\",\n",
    "                                  port = \"5432\")\n",
    "    \n",
    "    con.set_isolation_level(ISOLATION_LEVEL_AUTOCOMMIT);\n",
    "    print(\"Connected Successfully to PostgreSQL server!!\")\n",
    "    \n",
    "    # Obtain a DB Cursor to perform database operations\n",
    "    cursor = con.cursor();\n",
    "except (Exception, psycopg2.Error) as error :\n",
    "     print (\"Error while connecting to PostgreSQL\", error)\n"
   ]
  },
  {
   "cell_type": "markdown",
   "metadata": {},
   "source": [
    "### Test that reading CSV works"
   ]
  },
  {
   "cell_type": "code",
   "execution_count": null,
   "metadata": {},
   "outputs": [],
   "source": [
    "import pandas as pd\n",
    "df = pd.read_csv('circuits.csv')\n",
    "print(df.head())  # Displays the first 5 rows\n"
   ]
  },
  {
   "cell_type": "markdown",
   "metadata": {},
   "source": [
    "### Create sample table"
   ]
  },
  {
   "cell_type": "code",
   "execution_count": null,
   "metadata": {},
   "outputs": [],
   "source": [
    "#Create \"test\" Table\n",
    "\n",
    "try:\n",
    "    #table_name variable\n",
    "    seasonTable=\"season\"\n",
    "    create_all_tables_query = '''\n",
    "    CREATE TABLE IF NOT EXISTS circuit (\n",
    "        circuit_id INT PRIMARY KEY,\n",
    "        name TEXT,\n",
    "        location TEXT,\n",
    "        country TEXT,\n",
    "        lat FLOAT,\n",
    "        long FLOAT,\n",
    "        alt INT,\n",
    "        url TEXT\n",
    "    );\n",
    "\n",
    "    CREATE TABLE IF NOT EXISTS constructor (\n",
    "        constructor_id INT PRIMARY KEY,\n",
    "        name TEXT,\n",
    "        nationality TEXT,\n",
    "        url TEXT\n",
    "    );\n",
    "\n",
    "    CREATE TABLE IF NOT EXISTS driver (\n",
    "        driver_id INT PRIMARY KEY,\n",
    "        code TEXT,\n",
    "        first_name TEXT,\n",
    "        last_name TEXT,\n",
    "        dob DATE,\n",
    "        nationality TEXT,\n",
    "        url TEXT\n",
    "    );\n",
    "\n",
    "    CREATE TABLE IF NOT EXISTS race (\n",
    "        race_id INT PRIMARY KEY,\n",
    "        year INT,\n",
    "        round INT,\n",
    "        circuit_id INT REFERENCES circuit,\n",
    "        name TEXT,\n",
    "        date DATE,\n",
    "        url TEXT\n",
    "    );\n",
    "\n",
    "    CREATE TABLE IF NOT EXISTS season (\n",
    "        year INT PRIMARY KEY,\n",
    "        url TEXT\n",
    "    );\n",
    "\n",
    "    CREATE TABLE IF NOT EXISTS constructor_result (\n",
    "        constructor_results_id INT PRIMARY KEY,\n",
    "        race_id INT REFERENCES race,\n",
    "        constructor_id INT REFERENCES constructor,\n",
    "        points INT \n",
    "    );\n",
    "\n",
    "    CREATE TABLE IF NOT EXISTS constructor_standing (\n",
    "        constructor_standings_id INT PRIMARY KEY,\n",
    "        race_id INT REFERENCES race,\n",
    "        constructor_id INT REFERENCES constructor,\n",
    "        points INT,\n",
    "        position INT,\n",
    "        wins INT\n",
    "    );\n",
    "\n",
    "    CREATE TABLE IF NOT EXISTS driver_standing (\n",
    "        driver_standings_id INT PRIMARY KEY,\n",
    "        race_id INT REFERENCES race,\n",
    "        driver_id INT REFERENCES driver,\n",
    "        points INT,\n",
    "        position INT,\n",
    "        wins INT\n",
    "    );\n",
    "\n",
    "    CREATE TABLE IF NOT EXISTS lap_time (\n",
    "        race_id INT PRIMARY KEY,\n",
    "        driver_id INT REFERENCES driver,\n",
    "        lap INT,\n",
    "        position INT,\n",
    "        time_in_miliseconds INT\n",
    "    );\n",
    "\n",
    "    CREATE TABLE IF NOT EXISTS pit_stop (\n",
    "        race_id INT,\n",
    "        driver_id INT,\n",
    "        PRIMARY KEY (race_id, driver_id),\n",
    "        stop INT,\n",
    "        lap INT,\n",
    "        time_in_miliseconds INT\n",
    "    );\n",
    "\n",
    "    CREATE TABLE IF NOT EXISTS result_id (\n",
    "        result_id INT PRIMARY KEY,\n",
    "        race_id INT REFERENCES race,\n",
    "        driver_id INT REFERENCES driver,\n",
    "        constructor_id INT REFERENCES constructor,\n",
    "        position INT,\n",
    "        points INT,\n",
    "        laps INT,\n",
    "        time_in_miliseconds INT,\n",
    "        fastestLap INT,\n",
    "        rank INT,\n",
    "        fastest_lap_time INT,\n",
    "        fastest_lap_speed FLOAT\n",
    "    );\n",
    "    '''\n",
    "\n",
    "\n",
    "    #Execute this command (SQL Query)\n",
    "    cursor.execute(create_all_tables_query)\n",
    "    \n",
    "    # Make the changes to the database persistent\n",
    "    con.commit()\n",
    "    print(\"All tables created successfully in PostgreSQL \")\n",
    "except (Exception, psycopg2.Error) as error:\n",
    "    # if it exits with an exception the transaction is rolled back.\n",
    "    con.rollback()\n",
    "    print(\"Error While Creating the DB: \",error)"
   ]
  },
  {
   "cell_type": "markdown",
   "metadata": {},
   "source": [
    "Check table creation"
   ]
  },
  {
   "cell_type": "code",
   "execution_count": null,
   "metadata": {},
   "outputs": [],
   "source": [
    "# [information_schema.tables] keep listing of every table being managed by Postgres for a particular database.\n",
    "# specifying the tabel_schema to 'public' to only list tables that you create.\n",
    "cursor.execute(\"\"\"SELECT table_name \n",
    "                  FROM information_schema.tables \n",
    "                  WHERE table_schema = 'public'  \n",
    "               \"\"\")\n",
    "\n",
    "for table in cursor.fetchall():\n",
    "    print(table)"
   ]
  },
  {
   "cell_type": "markdown",
   "metadata": {},
   "source": [
    "### Test entering values manually"
   ]
  },
  {
   "cell_type": "code",
   "execution_count": null,
   "metadata": {},
   "outputs": [],
   "source": [
    "# sql_insert_customers = \"INSERT INTO season (year,url) VALUES(%s,%s)\"\n",
    "\n",
    "# #list of customers (With Their attributes values)\n",
    "# #None here means value will be missing in the table\n",
    "# customer_List=[\n",
    "#             (200000, \"mohamed.ragb@ut.ee\"),\n",
    "#             (2, \"j.smith@hotmail.com\"),\n",
    "#             (3, None),\n",
    "#             (4, \"jeanlime@gmail.com\"),\n",
    "#             (5,None)]\n",
    "\n",
    "# try:\n",
    "#     # execute the INSERT statement\n",
    "#     cursor.executemany(sql_insert_customers,customer_List)\n",
    "#     # commit the changes to the database\n",
    "#     con.commit()\n",
    "#     #the number of inserted rows/tuples\n",
    "#     count = cursor.rowcount\n",
    "#     print (count, \"Record inserted successfully into customers table\")\n",
    "\n",
    "# except (Exception, psycopg2.Error) as error :\n",
    "#     con.rollback()\n",
    "#     print (\"Error while Inserting the data to the table, Details: \",error)"
   ]
  },
  {
   "cell_type": "markdown",
   "metadata": {},
   "source": [
    "### View manual inserts"
   ]
  },
  {
   "cell_type": "code",
   "execution_count": null,
   "metadata": {},
   "outputs": [],
   "source": [
    "# sql_select_query = \"\"\" SELECT * FROM racestest \"\"\"\n",
    "\n",
    "# try:\n",
    "    \n",
    "#     cursor.execute(sql_select_query, (1,))\n",
    "#     person_records = cursor.fetchall() \n",
    "#     print(\"Print each row and it's columns values:\\n\")\n",
    "#     for row in person_records:\n",
    "#         print(\"year = \", row[0], )\n",
    "#         print(\"url = \", row[1], )\n",
    "# except(Exception, psycopg2.Error) as error :\n",
    "#     con.rollback()\n",
    "#     print(\"Error:\", error)"
   ]
  },
  {
   "cell_type": "markdown",
   "metadata": {},
   "source": [
    "### Read CSV and insert into already created tables with constraints"
   ]
  },
  {
   "cell_type": "code",
   "execution_count": null,
   "metadata": {},
   "outputs": [],
   "source": [
    "import pandas as pd\n",
    "from sqlalchemy import create_engine\n",
    "\n",
    "# Step 1: Load the CSV file into a pandas DataFrame\n",
    "csv_file_path = \"seasons.csv\"  # Replace with your CSV file path\n",
    "table_name = \"season\"  # Replace with your PostgreSQL table name\n",
    "df = pd.read_csv(csv_file_path)\n",
    "\n",
    "# Step 2: Connect to the PostgreSQL database\n",
    "# Replace the placeholders with your database credentials\n",
    "user = \"postgres\"\n",
    "password = \"postgres\"\n",
    "host = \"localhost\"\n",
    "port = \"5432\"\n",
    "database = \"postgres\"\n",
    "engine = create_engine(f\"postgresql+psycopg2://{user}:{password}@{host}:{port}/{database}\")\n",
    "\n",
    "# Step 3: Write the DataFrame to the PostgreSQL table\n",
    "try:\n",
    "    df.to_sql(table_name, con=engine, if_exists=\"append\", index=False)\n",
    "    print(f\"Data from {csv_file_path} successfully imported into {table_name}!\")\n",
    "except Exception as e:\n",
    "    print(f\"An error occurred: {e}\")\n"
   ]
  },
  {
   "cell_type": "markdown",
   "metadata": {},
   "source": [
    "### View populated table"
   ]
  },
  {
   "cell_type": "code",
   "execution_count": null,
   "metadata": {},
   "outputs": [],
   "source": [
    "sql_select_query = \"\"\" SELECT * FROM season \"\"\"\n",
    "\n",
    "try:\n",
    "    \n",
    "    cursor.execute(sql_select_query, (1,))\n",
    "    person_records = cursor.fetchall() \n",
    "    print(\"Print each row and it's columns values:\\n\")\n",
    "    for row in person_records:\n",
    "        print(\"year = \", row[0], )\n",
    "        print(\"url = \", row[1], )\n",
    "except(Exception, psycopg2.Error) as error :\n",
    "    con.rollback()\n",
    "    print(\"Error:\", error)"
   ]
  },
  {
   "cell_type": "code",
   "execution_count": null,
   "metadata": {},
   "outputs": [],
   "source": []
  }
 ],
 "metadata": {
  "kernelspec": {
   "display_name": "Python 3",
   "language": "python",
   "name": "python3"
  },
  "language_info": {
   "codemirror_mode": {
    "name": "ipython",
    "version": 3
   },
   "file_extension": ".py",
   "mimetype": "text/x-python",
   "name": "python",
   "nbconvert_exporter": "python",
   "pygments_lexer": "ipython3",
   "version": "3.13.0"
  }
 },
 "nbformat": 4,
 "nbformat_minor": 2
}
