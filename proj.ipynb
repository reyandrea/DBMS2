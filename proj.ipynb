{
 "cells": [
  {
   "cell_type": "markdown",
   "metadata": {},
   "source": [
    "#### Before You Start\n",
    "\n",
    "\n",
    "cd .devcontainer </br>\n",
    "run docker-compose up"
   ]
  },
  {
   "cell_type": "code",
   "execution_count": 1,
   "metadata": {},
   "outputs": [
    {
     "name": "stdout",
     "output_type": "stream",
     "text": [
      "Collecting psycopg2\n",
      "  Downloading psycopg2-2.9.10.tar.gz (385 kB)\n",
      "  Installing build dependencies ... \u001b[?25ldone\n",
      "\u001b[?25h  Getting requirements to build wheel ... \u001b[?25ldone\n",
      "\u001b[?25h  Preparing metadata (pyproject.toml) ... \u001b[?25ldone\n",
      "\u001b[?25hBuilding wheels for collected packages: psycopg2\n",
      "  Building wheel for psycopg2 (pyproject.toml) ... \u001b[?25ldone\n",
      "\u001b[?25h  Created wheel for psycopg2: filename=psycopg2-2.9.10-cp312-cp312-linux_x86_64.whl size=635590 sha256=c1a9ec789e8ba99161b41ee939e70779f5b40f3e60fd51cfb5ed2ebf9046aab6\n",
      "  Stored in directory: /home/codespace/.cache/pip/wheels/ac/bb/ce/afa589c50b6004d3a06fc691e71bd09c9bd5f01e5921e5329b\n",
      "Successfully built psycopg2\n",
      "Installing collected packages: psycopg2\n",
      "Successfully installed psycopg2-2.9.10\n",
      "\n",
      "\u001b[1m[\u001b[0m\u001b[34;49mnotice\u001b[0m\u001b[1;39;49m]\u001b[0m\u001b[39;49m A new release of pip is available: \u001b[0m\u001b[31;49m24.2\u001b[0m\u001b[39;49m -> \u001b[0m\u001b[32;49m24.3.1\u001b[0m\n",
      "\u001b[1m[\u001b[0m\u001b[34;49mnotice\u001b[0m\u001b[1;39;49m]\u001b[0m\u001b[39;49m To update, run: \u001b[0m\u001b[32;49mpython3 -m pip install --upgrade pip\u001b[0m\n"
     ]
    }
   ],
   "source": [
    "! pip install psycopg2"
   ]
  },
  {
   "cell_type": "code",
   "execution_count": 11,
   "metadata": {},
   "outputs": [],
   "source": [
    "import psycopg2  #import of the psycopg2 python library\n",
    "import pandas as pd #import of the pandas python library\n",
    "import pandas.io.sql as psql\n",
    "\n",
    "##No transaction is started when commands are executed and no commit() or rollback() is required. \n",
    "from psycopg2.extensions import ISOLATION_LEVEL_AUTOCOMMIT"
   ]
  },
  {
   "cell_type": "code",
   "execution_count": null,
   "metadata": {},
   "outputs": [
    {
     "name": "stdout",
     "output_type": "stream",
     "text": [
      "Connected Successfully to PostgreSQL server!!\n"
     ]
    }
   ],
   "source": [
    "try:\n",
    "    # Connect to the postgreSQL server with username, and password credentials\n",
    "    con = psycopg2.connect(user = \"postgres\",\n",
    "                                  password = \"postgres\",\n",
    "                                  host = \"localhost\",\n",
    "                                  port = \"5432\")\n",
    "    \n",
    "    con.set_isolation_level(ISOLATION_LEVEL_AUTOCOMMIT);\n",
    "    print(\"Connected Successfully to PostgreSQL server!!\")\n",
    "    \n",
    "    # Obtain a DB Cursor to perform database operations\n",
    "    cursor = con.cursor();\n",
    "except (Exception, psycopg2.Error) as error :\n",
    "     print (\"Error while connecting to PostgreSQL\", error)\n"
   ]
  },
  {
   "cell_type": "code",
   "execution_count": null,
   "metadata": {},
   "outputs": [
    {
     "ename": "",
     "evalue": "",
     "output_type": "error",
     "traceback": [
      "\u001b[1;31mRunning cells with 'Python 3.13.0' requires the ipykernel package.\n",
      "\u001b[1;31mRun the following command to install 'ipykernel' into the Python environment. \n",
      "\u001b[1;31mCommand: '/opt/homebrew/bin/python3 -m pip install ipykernel -U --user --force-reinstall'"
     ]
    }
   ],
   "source": [
    "import pandas as pd\n",
    "df = pd.read_csv('circuits.csv')\n"
   ]
  },
  {
   "cell_type": "code",
   "execution_count": 16,
   "metadata": {},
   "outputs": [
    {
     "name": "stdout",
     "output_type": "stream",
     "text": [
      "   circuitId   circuitRef                            name      location  \\\n",
      "0          1  albert_park  Albert Park Grand Prix Circuit     Melbourne   \n",
      "1          2       sepang    Sepang International Circuit  Kuala Lumpur   \n",
      "2          3      bahrain   Bahrain International Circuit        Sakhir   \n",
      "3          4    catalunya  Circuit de Barcelona-Catalunya      Montmeló   \n",
      "4          5     istanbul                   Istanbul Park      Istanbul   \n",
      "\n",
      "     country       lat        lng  alt  \\\n",
      "0  Australia -37.84970  144.96800   10   \n",
      "1   Malaysia   2.76083  101.73800   18   \n",
      "2    Bahrain  26.03250   50.51060    7   \n",
      "3      Spain  41.57000    2.26111  109   \n",
      "4     Turkey  40.95170   29.40500  130   \n",
      "\n",
      "                                                 url  \n",
      "0  http://en.wikipedia.org/wiki/Melbourne_Grand_P...  \n",
      "1  http://en.wikipedia.org/wiki/Sepang_Internatio...  \n",
      "2  http://en.wikipedia.org/wiki/Bahrain_Internati...  \n",
      "3  http://en.wikipedia.org/wiki/Circuit_de_Barcel...  \n",
      "4         http://en.wikipedia.org/wiki/Istanbul_Park  \n"
     ]
    }
   ],
   "source": [
    "print(df.head())  # Displays the first 5 rows\n"
   ]
  },
  {
   "cell_type": "markdown",
   "metadata": {},
   "source": [
    "#### Create sample table"
   ]
  },
  {
   "cell_type": "code",
   "execution_count": null,
   "metadata": {},
   "outputs": [],
   "source": [
    "#Create \"test\" Table\n",
    "\n",
    "try:\n",
    "    #table_name variable\n",
    "    seasonTable=\"season\"\n",
    "    create_seasonTable_query = '''CREATE TABLE '''+ seasonTable+''' \n",
    "              (year INT PRIMARY KEY,\n",
    "                url TEXT\n",
    "               ); '''\n",
    "\n",
    "    #Execute this command (SQL Query)\n",
    "    cursor.execute(create_seasonTable_query)\n",
    "    \n",
    "    # Make the changes to the database persistent\n",
    "    con.commit()\n",
    "    print(\"Table (\"+ seasonTable +\") created successfully in PostgreSQL \")\n",
    "except (Exception, psycopg2.Error) as error:\n",
    "    # if it exits with an exception the transaction is rolled back.\n",
    "    con.rollback()\n",
    "    print(\"Error While Creating the DB: \",error)"
   ]
  },
  {
   "cell_type": "markdown",
   "metadata": {},
   "source": [
    "#### Check table creation"
   ]
  },
  {
   "cell_type": "markdown",
   "metadata": {},
   "source": [
    "# [information_schema.tables] keep listing of every table being managed by Postgres for a particular database.\n",
    "# specifying the tabel_schema to 'public' to only list tables that you create.\n",
    "cursor.execute(\"\"\"SELECT table_name \n",
    "                  FROM information_schema.tables \n",
    "                  WHERE table_schema = 'public'  \n",
    "               \"\"\")\n",
    "\n",
    "for table in cursor.fetchall():\n",
    "    print(table)"
   ]
  },
  {
   "cell_type": "markdown",
   "metadata": {},
   "source": [
    "#### Test Entering Values into Seasons table"
   ]
  },
  {
   "cell_type": "code",
   "execution_count": null,
   "metadata": {},
   "outputs": [],
   "source": [
    "sql_insert_customers = \"INSERT INTO season (year,url) VALUES(%s,%s)\"\n",
    "\n",
    "#list of customers (With Their attributes values)\n",
    "#None here means value will be missing in the table\n",
    "customer_List=[\n",
    "            (1, \"mohamed.ragb@ut.ee\"),\n",
    "            (2, \"j.smith@hotmail.com\"),\n",
    "            (3, None),\n",
    "            (4, \"jeanlime@gmail.com\"),\n",
    "            (5,None)]\n",
    "\n",
    "try:\n",
    "    # execute the INSERT statement\n",
    "    cursor.executemany(sql_insert_customers,customer_List)\n",
    "    # commit the changes to the database\n",
    "    con.commit()\n",
    "    #the number of inserted rows/tuples\n",
    "    count = cursor.rowcount\n",
    "    print (count, \"Record inserted successfully into customers table\")\n",
    "\n",
    "except (Exception, psycopg2.Error) as error :\n",
    "    con.rollback()\n",
    "    print (\"Error while Inserting the data to the table, Details: \",error)"
   ]
  },
  {
   "cell_type": "markdown",
   "metadata": {},
   "source": [
    "#### View outcome"
   ]
  },
  {
   "cell_type": "code",
   "execution_count": null,
   "metadata": {},
   "outputs": [],
   "source": [
    "sql_select_query = \"\"\" SELECT * FROM season \"\"\"\n",
    "\n",
    "try:\n",
    "    \n",
    "    cursor.execute(sql_select_query, (1,))\n",
    "    person_records = cursor.fetchall() \n",
    "    print(\"Print each row and it's columns values:\\n\")\n",
    "    for row in person_records:\n",
    "        print(\"year = \", row[0], )\n",
    "        print(\"url = \", row[1], )\n",
    "except(Exception, psycopg2.Error) as error :\n",
    "    con.rollback()\n",
    "    print(\"Error:\", error)"
   ]
  }
 ],
 "metadata": {
  "kernelspec": {
   "display_name": "Python 3",
   "language": "python",
   "name": "python3"
  },
  "language_info": {
   "codemirror_mode": {
    "name": "ipython",
    "version": 3
   },
   "file_extension": ".py",
   "mimetype": "text/x-python",
   "name": "python",
   "nbconvert_exporter": "python",
   "pygments_lexer": "ipython3",
   "version": "3.13.0"
  }
 },
 "nbformat": 4,
 "nbformat_minor": 2
}
